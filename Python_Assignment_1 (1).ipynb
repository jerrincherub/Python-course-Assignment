{
  "nbformat": 4,
  "nbformat_minor": 0,
  "metadata": {
    "colab": {
      "provenance": []
    },
    "kernelspec": {
      "name": "python3",
      "display_name": "Python 3"
    },
    "language_info": {
      "name": "python"
    }
  },
  "cells": [
    {
      "cell_type": "code",
      "execution_count": null,
      "metadata": {
        "id": "a0qFwi6ZfgkF"
      },
      "outputs": [],
      "source": []
    },
    {
      "cell_type": "markdown",
      "source": [
        "ASSIGNMENT 1"
      ],
      "metadata": {
        "id": "K_AKVn8qQYTA"
      }
    },
    {
      "cell_type": "markdown",
      "source": [],
      "metadata": {
        "id": "upqwDjRVq9s2"
      }
    },
    {
      "cell_type": "markdown",
      "source": [
        "1. Program to display the details of student to display name,rollnumber,mark and display it."
      ],
      "metadata": {
        "id": "f84uLGb1fpas"
      }
    },
    {
      "cell_type": "code",
      "source": [
        "\n",
        "import math\n",
        "Name=input('Enter the name')\n",
        "Rollnumber=int(input('Enter the roll number'))\n",
        "Mark=int(input('Enter the mark'))\n",
        "print(\"Name :\" , Name)\n",
        "print(\"Roll number :\",Rollnumber)\n",
        "print(\"Mark :\" ,Mark)\n",
        "\n"
      ],
      "metadata": {
        "colab": {
          "base_uri": "https://localhost:8080/"
        },
        "id": "ELMrWI3af-uD",
        "outputId": "620d6bb5-7b30-499f-e945-a33856692d0c"
      },
      "execution_count": null,
      "outputs": [
        {
          "output_type": "stream",
          "name": "stdout",
          "text": [
            "Enter the nameAnisha\n",
            "Enter the roll number21\n",
            "Enter the mark78\n",
            "Name : Anisha\n",
            "Roll number : 21\n",
            "Mark : 78\n"
          ]
        }
      ]
    },
    {
      "cell_type": "markdown",
      "source": [
        "2. Program to convert temperature to and from celsius to farenheit\n"
      ],
      "metadata": {
        "id": "aEDGq3L0mICP"
      }
    },
    {
      "cell_type": "code",
      "source": [
        "import math\n",
        "fahrenheit=int(input('Enter the temperature in Fahrenheit ='))\n",
        "celsius=5*(fahrenheit-32)/9\n",
        "print('Temperature in celsius =',celsius)"
      ],
      "metadata": {
        "colab": {
          "base_uri": "https://localhost:8080/"
        },
        "id": "Q1-fLzQ9mTAU",
        "outputId": "f53a28a4-9d7f-4322-864f-e678e8b92d1e"
      },
      "execution_count": null,
      "outputs": [
        {
          "output_type": "stream",
          "name": "stdout",
          "text": [
            "Enter the temperature in Fahrenheit =41\n",
            "Temperature in celsius = 5.0\n"
          ]
        }
      ]
    },
    {
      "cell_type": "markdown",
      "source": [
        "3 . Program to accept two numbers from user and display its product"
      ],
      "metadata": {
        "id": "aZyuqXW0oB9s"
      }
    },
    {
      "cell_type": "code",
      "source": [
        "import math\n",
        "a=int(input('Enter a number'))\n",
        "b=int(input('Enter a number'))\n",
        "product=a*b\n",
        "print('Product of two numbers =',product)"
      ],
      "metadata": {
        "colab": {
          "base_uri": "https://localhost:8080/"
        },
        "id": "MVKx97THoJLl",
        "outputId": "97b47659-cce3-4c3d-e9bb-efdf7c766934"
      },
      "execution_count": null,
      "outputs": [
        {
          "output_type": "stream",
          "name": "stdout",
          "text": [
            "Enter a number4\n",
            "Enter a number7\n",
            "Product of two numbers = 28\n"
          ]
        }
      ]
    },
    {
      "cell_type": "markdown",
      "source": [
        "4 . Program to accept a string “Learn Python by Developing a\n",
        "Website” and display the string like \"Learn **Python by Developing a **website*\n",
        "*."
      ],
      "metadata": {
        "id": "V9X_Vc06iixC"
      }
    },
    {
      "cell_type": "code",
      "source": [
        "print(\"Learn Python by Developing a Website\")\n",
        "str1=\"**\"\n",
        "\n",
        "print(\"Learn\"+str1+\"Python\"+str1+\"by\"+\" Developing \"+\" a \"+str1+\"Website\" +str1)"
      ],
      "metadata": {
        "id": "22VfrY66kIbQ",
        "colab": {
          "base_uri": "https://localhost:8080/"
        },
        "outputId": "3ae608a8-1af7-46f2-9122-039807527f70"
      },
      "execution_count": null,
      "outputs": [
        {
          "output_type": "stream",
          "name": "stdout",
          "text": [
            "Learn Python by Developing a Website\n",
            "Learn**Python**by Developing  a **Website**\n"
          ]
        }
      ]
    },
    {
      "cell_type": "markdown",
      "source": [
        "5 .Program to accept the radius of the circle and display its area"
      ],
      "metadata": {
        "id": "1ROaR9uRn8tR"
      }
    },
    {
      "cell_type": "code",
      "source": [
        "import math\n",
        "r=int(input(\"Enter the radius of the circle = \"))\n",
        "area=math.pi*r**2\n",
        "print('area of a circle=',area)\n",
        "\n"
      ],
      "metadata": {
        "id": "75QA6D8UoOac",
        "colab": {
          "base_uri": "https://localhost:8080/"
        },
        "outputId": "d5de49df-bf48-4334-e42e-1a34fd1f37bc"
      },
      "execution_count": null,
      "outputs": [
        {
          "output_type": "stream",
          "name": "stdout",
          "text": [
            "Enter the radius of the circle = 5\n",
            "area of a circle= 78.53981633974483\n"
          ]
        }
      ]
    },
    {
      "cell_type": "code",
      "source": [],
      "metadata": {
        "id": "9OargV_Si7q5"
      },
      "execution_count": null,
      "outputs": []
    },
    {
      "cell_type": "markdown",
      "source": [
        "6 . Program to insert a number to any position in a list (Get the number to be inserted and position from the user)"
      ],
      "metadata": {
        "id": "RCLUqad_rA1_"
      }
    },
    {
      "cell_type": "code",
      "source": [
        "num_list = [1, 2, 3, 4, 5]\n",
        "\n",
        "print(f'Current Numbers List {num_list}')\n",
        "\n",
        "num = int(input(\"Please enter a number to add to list:\\n\"))\n",
        "\n",
        "index = int(input(f'Please enter the index between 0 and {len(num_list) - 1} to add the number:\\n'))\n",
        "\n",
        "num_list.insert(index, num)\n",
        "\n",
        "print(f'Updated Numbers List {num_list}')"
      ],
      "metadata": {
        "colab": {
          "base_uri": "https://localhost:8080/"
        },
        "id": "hIVdbQ8lvxJf",
        "outputId": "43b94728-4598-4fc2-971f-35a5b7206bd7"
      },
      "execution_count": null,
      "outputs": [
        {
          "output_type": "stream",
          "name": "stdout",
          "text": [
            "Current Numbers List [1, 2, 3, 4, 5]\n",
            "Please enter a number to add to list:\n",
            "7\n",
            "Please enter the index between 0 and 4 to add the number:\n",
            "3\n",
            "Updated Numbers List [1, 2, 3, 7, 4, 5]\n"
          ]
        }
      ]
    },
    {
      "cell_type": "markdown",
      "source": [
        "7 .Program to rename a key city to a location in the following dictionary.\n",
        "sample_dict = { \"name\": \"John\", \"age\":5, \"salary\": 8000, \"city\": \"New York\"}\n"
      ],
      "metadata": {
        "id": "qd6CJdzcwgwg"
      }
    },
    {
      "cell_type": "code",
      "source": [
        "sample_dict={\"name\": \"John\", \"age\":5, \"salary\": 8000, \"city\": \"New York\"}\n",
        "sample_dict[\"place\"]=sample_dict.pop(\"city\")\n",
        "sample_dict"
      ],
      "metadata": {
        "colab": {
          "base_uri": "https://localhost:8080/"
        },
        "id": "QPId9sLK39Dn",
        "outputId": "32dd9a1b-dcf1-4b81-c803-67e5ec8d3f86"
      },
      "execution_count": null,
      "outputs": [
        {
          "output_type": "execute_result",
          "data": {
            "text/plain": [
              "{'name': 'John', 'age': 5, 'salary': 8000, 'place': 'New York'}"
            ]
          },
          "metadata": {},
          "execution_count": 5
        }
      ]
    },
    {
      "cell_type": "markdown",
      "source": [
        "8.  Python program to change Brad’s salary to 8500 in the following dictionary.\n",
        "sample_dict = {\n",
        "'emp1': {'name': 'John', 'salary': 7500},\n",
        "'emp2': {'name': 'Emma', 'salary': 8000},\n",
        "'emp3': {'name': 'Brad', 'salary': 500}\n",
        "}\n"
      ],
      "metadata": {
        "id": "VBbZxeeh6toz"
      }
    },
    {
      "cell_type": "code",
      "source": [
        "sample_dict ={\n",
        "'emp1': {'name': 'John', 'salary': 7500},\n",
        "'emp2': {'name': 'Emma', 'salary': 8000},\n",
        "'emp3': {'name': 'Brad', 'salary': 500}\n",
        "}\n",
        "s2={\n",
        "'emp1': {'name': 'John', 'salary': 7500},\n",
        "'emp2': {'name': 'Emma', 'salary': 8000},\n",
        "'emp3': {'name': 'Brad', 'salary': 8500}\n",
        "}\n",
        "sample_dict.update(s2)\n",
        "\n",
        "\n",
        "print(s2)\n"
      ],
      "metadata": {
        "colab": {
          "base_uri": "https://localhost:8080/"
        },
        "id": "z9NMmyon62Q2",
        "outputId": "7befbe32-c563-41c9-a16b-89103676ebe9"
      },
      "execution_count": null,
      "outputs": [
        {
          "output_type": "stream",
          "name": "stdout",
          "text": [
            "{'emp1': {'name': 'John', 'salary': 7500}, 'emp2': {'name': 'Emma', 'salary': 8000}, 'emp3': {'name': 'Brad', 'salary': 8500}}\n"
          ]
        }
      ]
    },
    {
      "cell_type": "code",
      "source": [],
      "metadata": {
        "id": "viK_M5NZ6wZh"
      },
      "execution_count": null,
      "outputs": []
    },
    {
      "cell_type": "markdown",
      "source": [
        "9.  Program to copy elements 43 and 54 from the following tuple into a new tuple. Given:\n",
        "tuple1 = (10, 20, 43, 54, 56, 68)"
      ],
      "metadata": {
        "id": "vGxnuvA7MqFN"
      }
    },
    {
      "cell_type": "code",
      "source": [
        "tuple1=(10,20,43,54,56,68)\n",
        "t3=tuple1[2]\n",
        "t4=tuple1[3]\n",
        "tuplenew=[t3,t4]\n",
        "tuplenew"
      ],
      "metadata": {
        "colab": {
          "base_uri": "https://localhost:8080/"
        },
        "id": "Mzz5ZLWXNW43",
        "outputId": "d6057fc7-ab5d-4a2c-ae9a-c1c873539297"
      },
      "execution_count": null,
      "outputs": [
        {
          "output_type": "execute_result",
          "data": {
            "text/plain": [
              "[43, 54]"
            ]
          },
          "metadata": {},
          "execution_count": 35
        }
      ]
    },
    {
      "cell_type": "markdown",
      "source": [
        "10.  Counts the number of occurrences of item 50 from a tuple\n",
        "tuple1 = (50, 10, 60, 70, 50,83,567,50,81)"
      ],
      "metadata": {
        "id": "jRJhjoJlOsMb"
      }
    },
    {
      "cell_type": "code",
      "source": [
        "tuple1 = (50, 10, 60, 70, 50,83,567,50,81)\n",
        "t1=tuple1.count(50)\n",
        "print(\"Number of occurence of 50\") \n",
        "t1"
      ],
      "metadata": {
        "colab": {
          "base_uri": "https://localhost:8080/"
        },
        "id": "SbRBxC9FOxlv",
        "outputId": "d194da75-f2cd-4690-893a-30787ab53244"
      },
      "execution_count": null,
      "outputs": [
        {
          "output_type": "stream",
          "name": "stdout",
          "text": [
            "Number of occurence of 50\n"
          ]
        },
        {
          "output_type": "execute_result",
          "data": {
            "text/plain": [
              "3"
            ]
          },
          "metadata": {},
          "execution_count": 38
        }
      ]
    }
  ]
}