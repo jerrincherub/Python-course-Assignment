{
 "cells": [
  {
   "cell_type": "code",
   "execution_count": null,
   "id": "ac4b60a6",
   "metadata": {},
   "outputs": [],
   "source": [
    "1.Write an interactive Python Program to implement following “Guess Game”"
   ]
  },
  {
   "cell_type": "code",
   "execution_count": 2,
   "id": "bc59ac1e",
   "metadata": {},
   "outputs": [
    {
     "name": "stdout",
     "output_type": "stream",
     "text": [
      "Enter any number between 1 and 10: 4\n",
      "Too low! try again\n",
      "Enter number again: 3\n",
      "Too low! try again\n",
      "Enter number again: 6\n",
      "Too low! try again\n",
      "Enter number again: 7\n",
      "Congratulation! You guessed the number correctly!\n"
     ]
    }
   ],
   "source": [
    "\n",
    "\n",
    "import random\n",
    "n = random.randrange(1,10)\n",
    "guess = int(input(\"Enter any number between 1 and 10: \"))\n",
    "while n!= guess:\n",
    "    if guess < n:\n",
    "        print(\"Too low! try again\")\n",
    "        guess = int(input(\"Enter number again: \"))\n",
    "    elif guess > n:\n",
    "        print(\"Too high! try again\")\n",
    "        guess = int(input(\"Enter number again: \"))\n",
    "    else:\n",
    "      break\n",
    "print(\"Congratulation! You guessed the number correctly!\")"
   ]
  },
  {
   "cell_type": "code",
   "execution_count": null,
   "id": "831da035",
   "metadata": {},
   "outputs": [],
   "source": [
    "2.Write a program to find and print the Factorial of this number. The Factorial of a positive integer N refers to the product of all number in the range from 1 to N."
   ]
  },
  {
   "cell_type": "code",
   "execution_count": 9,
   "id": "e70d25ea",
   "metadata": {
    "scrolled": true
   },
   "outputs": [
    {
     "name": "stdout",
     "output_type": "stream",
     "text": [
      "Enter a number: 4\n",
      "The factorial of 4 is 24\n"
     ]
    }
   ],
   "source": [
    "N = int(input(\"Enter a number: \"))\n",
    "\n",
    "factorial = 1\n",
    "\n",
    "if N < 0:\n",
    "   print(\"Sorry, factorial does not exist for negative numbers\")\n",
    "elif N == 0:\n",
    "   print(\"The factorial of 0 is 1\")\n",
    "else:\n",
    "   for i in range(1,N + 1):\n",
    "       factorial = factorial*i\n",
    "   print(\"The factorial of\",N,\"is\",factorial)"
   ]
  },
  {
   "cell_type": "code",
   "execution_count": null,
   "id": "0da1a961",
   "metadata": {},
   "outputs": [],
   "source": [
    "Roy wants to change his profile picture on Facebook. Now Facebook has some restriction over the dimension of picture that we can upload.Given L, N, W and H as input, write a program to print appropriate text as output."
   ]
  },
  {
   "cell_type": "code",
   "execution_count": 2,
   "id": "c0405610",
   "metadata": {},
   "outputs": [
    {
     "name": "stdout",
     "output_type": "stream",
     "text": [
      "Enter the length of the photo 4\n",
      "Enter the number of photos to upload 3\n",
      "Enter the width of the photo 3\n",
      "Enter the Height of the photo 2\n",
      "UPLOAD ANOTHER\n",
      "Enter the width of the photo 5\n",
      "Enter the Height of the photo 6\n",
      "CROP IT\n",
      "Enter the width of the photo 5\n",
      "Enter the Height of the photo 5\n",
      "ACCEPTED\n"
     ]
    }
   ],
   "source": [
    "L=int(input(\"Enter the length of the photo \"))\n",
    "N=int(input(\"Enter the number of photos to upload \"))\n",
    "while N>0:\n",
    "  W=int(input(\"Enter the width of the photo \"))\n",
    "  H=int(input(\"Enter the Height of the photo \")) \n",
    "\n",
    "  if  W<L or H<L:   \n",
    "    print(\"UPLOAD ANOTHER\")\n",
    "  elif W>=L and  H>=L and W==H:\n",
    "     print(\"ACCEPTED\")\n",
    "  elif W>=L and  H>=L and W!=H:   \n",
    "    print(\"CROP IT\")    \n",
    "  N= N-1\n",
    "     "
   ]
  },
  {
   "cell_type": "code",
   "execution_count": null,
   "id": "b9c5aebf",
   "metadata": {},
   "outputs": [],
   "source": []
  }
 ],
 "metadata": {
  "kernelspec": {
   "display_name": "Python 3 (ipykernel)",
   "language": "python",
   "name": "python3"
  },
  "language_info": {
   "codemirror_mode": {
    "name": "ipython",
    "version": 3
   },
   "file_extension": ".py",
   "mimetype": "text/x-python",
   "name": "python",
   "nbconvert_exporter": "python",
   "pygments_lexer": "ipython3",
   "version": "3.10.9"
  }
 },
 "nbformat": 4,
 "nbformat_minor": 5
}
